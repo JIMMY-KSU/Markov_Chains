{
 "cells": [
  {
   "cell_type": "markdown",
   "metadata": {},
   "source": [
    "# Markov Chains"
   ]
  },
  {
   "cell_type": "markdown",
   "metadata": {},
   "source": [
    "This paper has three sections. The first section uses simulation to develop an intuitive understanding of the ideas behind Markov Chains; the second section looks at some of the mathematics used to represent the problem, leading to the standard eigenvector representation and the final section describes an idea to use Markov Chains together with a probability distribution model of social mobility to predict long term \"social class\" proportions."
   ]
  },
  {
   "cell_type": "markdown",
   "metadata": {},
   "source": [
    "## Intuition"
   ]
  },
  {
   "cell_type": "markdown",
   "metadata": {},
   "source": [
    "### Single State Markov Chain - The Law of Large Numbers"
   ]
  },
  {
   "cell_type": "markdown",
   "metadata": {},
   "source": [
    "The relative frequency/experimental probability gets closer the theoretical probability as the number of trials increases. So, if event A has a given probability, then as the number of trials increases the proportion of times event A occurs gets closer to the probability of A. So a single state Markov Chain has \"long term behaviour\"."
   ]
  },
  {
   "cell_type": "markdown",
   "metadata": {},
   "source": [
    "### Simulation:"
   ]
  },
  {
   "cell_type": "code",
   "execution_count": 2,
   "metadata": {},
   "outputs": [
    {
     "data": {
      "image/png": "[encoded data removed]",
      "text/plain": [
       "<matplotlib.figure.Figure at 0x7f7a667153c8>"
      ]
     },
     "metadata": {},
     "output_type": "display_data"
    }
   ],
   "source": [
    "import matplotlib.pyplot as plt\n",
    "from random import uniform\n",
    "\n",
    "# Setting probabilities and parameters\n",
    "\n",
    "pA = 0.6\n",
    "ntrails = 10000\n",
    "probs = []\n",
    "count_trials = 0\n",
    "count_success = 0\n",
    "\n",
    "# performing simulations\n",
    "\n",
    "for i in range(0,ntrails):\n",
    "    count_trials = count_trials + 1\n",
    "    var = uniform(0,1)\n",
    "    if var < pA:\n",
    "        count_success = count_success + 1\n",
    "    probs.append(count_success/count_trials)\n",
    "\n",
    "# plotting results\n",
    "    \n",
    "plt.plot(probs)\n",
    "plt.axhline(y=pA, color='r', linestyle='-')\n",
    "plt.show()\n",
    "\n"
   ]
  },
  {
   "cell_type": "markdown",
   "metadata": {},
   "source": [
    "### Multi State Markov Chains"
   ]
  },
  {
   "cell_type": "markdown",
   "metadata": {},
   "source": [
    "If we have a system that has multiple \"states\" and the probabilities change depending on the current state, is there long term behaviour/does it matter what state the system starts in?"
   ]
  },
  {
   "cell_type": "markdown",
   "metadata": {},
   "source": [
    "![title](img/multi_state.png)"
   ]
  },
  {
   "cell_type": "markdown",
   "metadata": {},
   "source": [
    "### Simulation:"
   ]
  },
  {
   "cell_type": "markdown",
   "metadata": {},
   "source": [
    "The simulation below repeats the above experiment 10000 times starting in state 0 and in state 1, then the proportion of times the system is in state 0 and state 1 is plotted"
   ]
  },
  {
   "cell_type": "code",
   "execution_count": 3,
   "metadata": {},
   "outputs": [
    {
     "data": {
      "image/png": "[encoded data removed]",
      "text/plain": [
       "<matplotlib.figure.Figure at 0x7f7a4f9307f0>"
      ]
     },
     "metadata": {},
     "output_type": "display_data"
    }
   ],
   "source": [
    "# state dependent simulation function\n",
    "\n",
    "def markov_sim(state,p00,p10,ntrails):\n",
    "    count_s0 = 0\n",
    "    count_s1 = 0\n",
    "    for i in range(0,ntrails):\n",
    "        if state == 0:\n",
    "            count_s0 = count_s0 + 1\n",
    "        elif state == 1:\n",
    "            count_s1 = count_s1 + 1\n",
    "        var = uniform(0,1)\n",
    "        if state == 0:\n",
    "            if var < p00:\n",
    "                state = 0\n",
    "            else:\n",
    "                state = 1\n",
    "        elif state == 1:\n",
    "            if var < p10:\n",
    "                state = 0\n",
    "            else:\n",
    "                state = 1\n",
    "    return [count_s0, count_s1]\n",
    "\n",
    "# Setting probabilities and parameters\n",
    "\n",
    "ntrials = 100000\n",
    "p00 = 0.3\n",
    "p10 = 0.5\n",
    "count_init_S0 = markov_sim(1,p00,p10,ntrials)\n",
    "count_init_S0 = [x / ntrials for x in count_init_S0]\n",
    "num_cols = range(len(count_init_S0))\n",
    "plt.subplot(1, 2, 1)\n",
    "plt.bar(['State 0', 'State 1'],count_init_S0)\n",
    "plt.title('Initial State 0')\n",
    "\n",
    "count_init_S1 = markov_sim(1,p00,p10,ntrials)\n",
    "count_init_S1 = [x / ntrials for x in count_init_S1]\n",
    "plt.subplot(1, 2, 2)\n",
    "plt.bar(['State 0', 'State 1'],count_init_S1)\n",
    "plt.title('Initial State 1')\n",
    "\n",
    "plt.show()"
   ]
  },
  {
   "cell_type": "markdown",
   "metadata": {},
   "source": [
    "So there is long term behaviour and it doesn't seem to matter is you start in state 0 or state 1, or what the initial probabilities are set to"
   ]
  },
  {
   "cell_type": "markdown",
   "metadata": {},
   "source": [
    "## Some of the Maths"
   ]
  },
  {
   "cell_type": "markdown",
   "metadata": {},
   "source": [
    "The standard approach is to represent the probabilities as a transition matrix. E.g."
   ]
  },
  {
   "cell_type": "markdown",
   "metadata": {},
   "source": [
    "$$ P = \\begin{pmatrix} p00 & p01 \\\\ p10 & p11 \\end{pmatrix} $$"
   ]
  },
  {
   "cell_type": "markdown",
   "metadata": {},
   "source": [
    "Where $$ pij = P(state(n+1) = i|state(n) = j) $$"
   ]
  },
  {
   "cell_type": "markdown",
   "metadata": {},
   "source": [
    "Given this definition P to the power of n can be interpreted as\n",
    "\n",
    "$$P^n = \\begin{pmatrix} P(s(n) =  0| s(0) = 0) &  P(s(n) =  0| s(0) = 1) \\\\ P(s(n) =  1| s(0) = 0) &  P(s(n) =  1| s(0) = 1) \\end{pmatrix} $$"
   ]
  },
  {
   "cell_type": "markdown",
   "metadata": {},
   "source": [
    "So the first column is the probability of being in state 0 or 1 at the nth step given the system started in state 0 and the second is the probability of being in state 0 or 1 at the nth step given the system started in state 1. If this is true you would expect the columns of P to the power of n to match the proportions in the simulation above for large n. This result is verified by simultation and proved mathematically bellow:"
   ]
  },
  {
   "cell_type": "markdown",
   "metadata": {},
   "source": [
    "### Simulation:"
   ]
  },
  {
   "cell_type": "markdown",
   "metadata": {},
   "source": [
    "Raising P to the power of n gives the same proportions as the previous simulation"
   ]
  },
  {
   "cell_type": "code",
   "execution_count": 4,
   "metadata": {},
   "outputs": [
    {
     "name": "stdout",
     "output_type": "stream",
     "text": [
      "Transition Matrix P:\n",
      "\n",
      "[[ 0.3  0.5]\n",
      " [ 0.7  0.5]]\n",
      "\n",
      "Transition Matrix P to the Power of n:\n",
      "\n",
      "[[ 0.41666667  0.41666667]\n",
      " [ 0.58333333  0.58333333]]\n"
     ]
    }
   ],
   "source": [
    "# importing numpy\n",
    "import numpy as np\n",
    "\n",
    "P = np.array([[p00, p10],[1-p00, 1-p10]])\n",
    "print(\"Transition Matrix P:\\n\")\n",
    "print(P)\n",
    "Pn = np.linalg.matrix_power(P, ntrials)\n",
    "print(\"\\nTransition Matrix P to the Power of n:\\n\")\n",
    "print(Pn)"
   ]
  },
  {
   "cell_type": "markdown",
   "metadata": {},
   "source": [
    "### Proof"
   ]
  },
  {
   "cell_type": "markdown",
   "metadata": {},
   "source": [
    "Use induction, take n = 0 as initial state, then true for n = 1 by definition. Assuming true for n and prove true for n + 1."
   ]
  },
  {
   "cell_type": "markdown",
   "metadata": {},
   "source": [
    "$$P^{n+1} = P \\times P^n =  \\begin{pmatrix} p00 & p01 \\\\ p10 & p11 \\end{pmatrix} \\times \\begin{pmatrix} P(s(n) =  0| s(0) = 0) &  P(s(n) =  0| s(0) = 1) \\\\ P(s(n) =  1| s(0) = 0) &  P(s(n) =  1| s(0) = 1) \\end{pmatrix}$$"
   ]
  },
  {
   "cell_type": "markdown",
   "metadata": {
    "collapsed": true
   },
   "source": [
    "Seeing as pij = P(state = i|state = j) for every point in the chain, pij can be taken as P(s(n+1) = i|s(n) = j). Using this in the above formulation gives:"
   ]
  },
  {
   "cell_type": "markdown",
   "metadata": {
    "collapsed": true
   },
   "source": [
    "$$P^{n+1} = \\begin{pmatrix} P(s(n+1)=0|s(n)=0) & P(s(n+1)=0|s(n)=1) \\\\ P(s(n+1)=1|s(n)=0) & P(s(n+1)=1|s(n)=1) \\end{pmatrix} \\times \\begin{pmatrix} P(s(n) =  0| s(0) = 0) &  P(s(n) =  0| s(0) = 1) \\\\ P(s(n) =  1| s(0) = 0) &  P(s(n) =  1| s(0) = 1) \\end{pmatrix}$$"
   ]
  },
  {
   "cell_type": "markdown",
   "metadata": {
    "collapsed": true
   },
   "source": [
    "The top left element is\n",
    "\n",
    "\n"
   ]
  },
  {
   "cell_type": "markdown",
   "metadata": {},
   "source": [
    "$$P(s(n+1)=0|s(n)=0) \\times P(s(n) =  0| s(0) = 0) + P(s(n+1)=0|s(n)=1) \\times P(s(n) =  1| s(0) = 0)$$"
   ]
  },
  {
   "cell_type": "markdown",
   "metadata": {},
   "source": [
    "Starting in state 0 and being at state 0 for step n+1 via state n can happen in two ways:\n",
    "* step 0 state 0; step n state 0; step n+1 state 0\n",
    "* step 0 state 0; step n state 1; step n+1 state 0"
   ]
  },
  {
   "cell_type": "markdown",
   "metadata": {},
   "source": [
    "So the top left element is equal to P(s(n+1)=0|s(0)=0)"
   ]
  },
  {
   "cell_type": "markdown",
   "metadata": {},
   "source": [
    "Similar arguements for the remaining elements gives:"
   ]
  },
  {
   "cell_type": "markdown",
   "metadata": {},
   "source": [
    "$$P^{n+1} = \\begin{pmatrix} P(s(n+1) =  0| s(0) = 0) &  P(s(n+1) =  0| s(0) = 1) \\\\ P(s(n+1) =  1| s(0) = 0) &  P(s(n+1) =  1| s(0) = 1) \\end{pmatrix} $$"
   ]
  },
  {
   "cell_type": "markdown",
   "metadata": {},
   "source": [
    "### Eigenvector Representation"
   ]
  },
  {
   "cell_type": "markdown",
   "metadata": {},
   "source": [
    "It can be proved, in most cases, that P tends to a limit as n tends to infinity. This paper (http://www.columbia.edu/~ks20/stochastic-I/stochastic-I-MCII.pdf) contains more details. I have assumed this as a starting point. So\n",
    "\n",
    "$$P^{n} \\to P^{\\infty}$$ as $$n \\to \\infty$$"
   ]
  },
  {
   "cell_type": "markdown",
   "metadata": {},
   "source": [
    "Then for large n"
   ]
  },
  {
   "cell_type": "markdown",
   "metadata": {},
   "source": [
    "$$P^{n+1} \\approx P^{n} \\implies P \\times P^{n} \\approx P^{n}$$"
   ]
  },
  {
   "cell_type": "markdown",
   "metadata": {},
   "source": [
    "Taking the limit"
   ]
  },
  {
   "cell_type": "markdown",
   "metadata": {},
   "source": [
    "$$P \\times P^{\\infty} =  P^{\\infty}$$"
   ]
  },
  {
   "cell_type": "markdown",
   "metadata": {},
   "source": [
    "$$ \\implies \\text{the columns of } P^{\\infty} \\text{are eigen vectors of P with an eigenvalue of 1}$$"
   ]
  },
  {
   "cell_type": "markdown",
   "metadata": {},
   "source": [
    "So the long term behaviour of the system can be found by calculating the eigenvectors with an eigenvalue of 1. The simulation below shows that the eigen vector of P with with eigen value of 1 gives the same result as the previous two simulations to find the long term behaviour of the system."
   ]
  },
  {
   "cell_type": "markdown",
   "metadata": {},
   "source": [
    "### Simulation:"
   ]
  },
  {
   "cell_type": "code",
   "execution_count": 5,
   "metadata": {},
   "outputs": [
    {
     "name": "stdout",
     "output_type": "stream",
     "text": [
      "First set of eigenvectors/values:\n",
      "Eigenvalue:\n",
      "-0.2\n",
      "Eigenvector (normalised to add to 1):\n",
      "[-inf  inf]\n",
      "Second set of eigenvectors/values:\n",
      "Eigenvalue:\n",
      "1.0\n",
      "Eigenvector (normalised to add to 1):\n",
      "[ 0.41666667  0.58333333]\n"
     ]
    },
    {
     "name": "stderr",
     "output_type": "stream",
     "text": [
      "/home/smeths/anaconda3/lib/python3.6/site-packages/ipykernel_launcher.py:7: RuntimeWarning: divide by zero encountered in true_divide\n",
      "  import sys\n"
     ]
    }
   ],
   "source": [
    "Peig = np.linalg.eig(P)\n",
    "# printing first eigenvalue/vector\n",
    "print(\"First set of eigenvectors/values:\")\n",
    "print(\"Eigenvalue:\")\n",
    "print(Peig[0][0])\n",
    "print(\"Eigenvector (normalised to add to 1):\")\n",
    "print(Peig[1][:,0]/sum(Peig[1][:,0]))\n",
    "# printing second eigenvalue/vector\n",
    "print(\"Second set of eigenvectors/values:\")\n",
    "print(\"Eigenvalue:\")\n",
    "print(Peig[0][1])\n",
    "print(\"Eigenvector (normalised to add to 1):\")\n",
    "print(Peig[1][:,1]/sum(Peig[1][:,1]))\n"
   ]
  },
  {
   "cell_type": "markdown",
   "metadata": {},
   "source": [
    "## Markov Model Based on a Social Mobility Probability Distributions "
   ]
  },
  {
   "cell_type": "markdown",
   "metadata": {
    "collapsed": true
   },
   "source": [
    "The following extract is from the BBC's \"Great British Class\" survey. For full details follow this link https://www.bbc.co.uk/labuk/experiments/the-great-british-class-survey"
   ]
  },
  {
   "cell_type": "markdown",
   "metadata": {},
   "source": [
    "![title](img/class_results.png)"
   ]
  },
  {
   "cell_type": "markdown",
   "metadata": {},
   "source": [
    "If the class you start a family in is largely dependent on the class you were born into, then the transistion from one generation to the next could be modelled as a Markov Chain. E.g."
   ]
  },
  {
   "cell_type": "markdown",
   "metadata": {},
   "source": [
    "![title](img/soc_mob_mod_pic.png)"
   ]
  },
  {
   "cell_type": "markdown",
   "metadata": {},
   "source": [
    "Assumptions:\n",
    "\n",
    "1. Families form a 2 to 2 relationship (two parent two children)\n",
    "2. Class types and quantity remain constant\n",
    "3. Class you start a family in is largely dependent on the class you are born into\n",
    "\n",
    "Assumption 2 seems questionable. For example the BBC survey discusses how class types have evolved over the years. The interpretation of the model would have to be along the lines of \"if current trends continue\" "
   ]
  },
  {
   "cell_type": "markdown",
   "metadata": {},
   "source": [
    "## Collecting Data"
   ]
  },
  {
   "cell_type": "markdown",
   "metadata": {},
   "source": [
    "Ideally, collect data from people who have started a family. Specifically what class do they belong to now and what class where they born into. Provided sufficient data could be collected, it would be possible to form probability distributions for each class (like those below) giving the probabilities of transitioning to each class. Still thinking/looking to see how feasible this is."
   ]
  },
  {
   "cell_type": "markdown",
   "metadata": {},
   "source": [
    "## Example Output Based on Dummy Data"
   ]
  },
  {
   "cell_type": "markdown",
   "metadata": {},
   "source": [
    "Dummy data (Just set so that each vector adds to one)."
   ]
  },
  {
   "cell_type": "code",
   "execution_count": 6,
   "metadata": {},
   "outputs": [
    {
     "data": {
      "image/png": "[encoded data removed]",
      "text/plain": [
       "<matplotlib.figure.Figure at 0x7f7a4f864668>"
      ]
     },
     "execution_count": 6,
     "metadata": {},
     "output_type": "execute_result"
    }
   ],
   "source": [
    "# Enter your believes regarding moving from a \"precariat\" class to the other classes bellow:\n",
    "s0_prob_dist = [0.7,0.2,0.1,0,0,0,0]\n",
    "# Enter your believes regarding moving from a \"emergent service workers\" class to the other classes bellow:\n",
    "s1_prob_dist = [0.3,0.6,0.1,0,0,0,0]\n",
    "# Enter your believes regarding moving from a \"traditional working\" class to the other classes bellow:\n",
    "s2_prob_dist = [0.1,0.2,0.6,0.1,0,0,0]\n",
    "# Enter your believes regarding moving from a \"new affluent workers\" class to the other classes bellow:\n",
    "s3_prob_dist = [0.1,0.1,0.1,0.6,0.1,0,0]\n",
    "# Enter your believes regarding moving from a \"technical middle\" class to the other classes bellow:\n",
    "s4_prob_dist = [0,0,0,0.2,0.7,0.1,0]\n",
    "# Enter your believes regarding moving from a \"estabilished middle\" class to the other classes bellow:\n",
    "s5_prob_dist = [0,0,0,0.1,0.2,0.6,0.1]\n",
    "# Enter your believes regarding moving from a elite class to the other classes bellow:\n",
    "s6_prob_dist = [0,0,0,0,0,0.1,0.9]\n",
    "\n",
    "fig = plt.figure(figsize=(14,12))\n",
    "fig.suptitle('Probability Distributions - S0 to S6', fontsize=20)\n",
    "fig.subplots_adjust(hspace=0.6)\n",
    "ax = fig.add_subplot(3, 3 ,1)\n",
    "ax.bar(['0-Pr','1-Em','2-Tr','3-Ne','4-Te','5-Es','6-El'],s0_prob_dist)\n",
    "ax.title.set_text('Precariat')\n",
    "ax = fig.add_subplot(3, 3, 2)\n",
    "ax.bar(['0-Pr','1-Em','2-Tr','3-Ne','4-Te','5-Es','6-El'],s1_prob_dist)\n",
    "ax.title.set_text('Emergent Service Workers')\n",
    "ax = fig.add_subplot(3, 3, 3)\n",
    "ax.bar(['0-Pr','1-Em','2-Tr','3-Ne','4-Te','5-Es','6-El'],s2_prob_dist)\n",
    "ax.title.set_text('Traditional Working Class')\n",
    "ax = fig.add_subplot(3, 3, 4)\n",
    "ax.bar(['0-Pr','1-Em','2-Tr','3-Ne','4-Te','5-Es','6-El'],s3_prob_dist)\n",
    "ax.title.set_text('New Affluent Workers')\n",
    "ax = fig.add_subplot(3, 3, 5)\n",
    "ax.bar(['0-Pr','1-Em','2-Tr','3-Ne','4-Te','5-Es','6-El'],s4_prob_dist)\n",
    "ax.title.set_text('Technical Middle Class')\n",
    "ax = fig.add_subplot(3, 3, 6)\n",
    "ax.bar(['0-Pr','1-Em','2-Tr','3-Ne','4-Te','5-Es','6-El'],s5_prob_dist)\n",
    "ax.title.set_text('Established Middle Class')\n",
    "ax = fig.add_subplot(3, 3, 7)\n",
    "ax.bar(['0-Pr','1-Em','2-Tr','3-Ne','4-Te','5-Es','6-El'],s6_prob_dist)\n",
    "ax.title.set_text('Elite')\n",
    "fig\n"
   ]
  },
  {
   "cell_type": "markdown",
   "metadata": {},
   "source": [
    "Forming transition matrix and calculating the eigenvector with an eigenvalue of 1"
   ]
  },
  {
   "cell_type": "code",
   "execution_count": 7,
   "metadata": {},
   "outputs": [
    {
     "name": "stdout",
     "output_type": "stream",
     "text": [
      "P to the power of n\n",
      "\n",
      "[[ 0.39242424  0.39242424  0.39242424  0.39242424  0.39242424  0.39242424\n",
      "   0.39242424]\n",
      " [ 0.30757576  0.30757576  0.30757576  0.30757576  0.30757576  0.30757576\n",
      "   0.30757576]\n",
      " [ 0.19090909  0.19090909  0.19090909  0.19090909  0.19090909  0.19090909\n",
      "   0.19090909]\n",
      " [ 0.06363636  0.06363636  0.06363636  0.06363636  0.06363636  0.06363636\n",
      "   0.06363636]\n",
      " [ 0.02727273  0.02727273  0.02727273  0.02727273  0.02727273  0.02727273\n",
      "   0.02727273]\n",
      " [ 0.00909091  0.00909091  0.00909091  0.00909091  0.00909091  0.00909091\n",
      "   0.00909091]\n",
      " [ 0.00909091  0.00909091  0.00909091  0.00909091  0.00909091  0.00909091\n",
      "   0.00909091]]\n",
      "\n",
      "Eigenvector (normalised to add to 1):\n",
      "\n",
      "[ 0.39242424  0.30757576  0.19090909  0.06363636  0.02727273  0.00909091\n",
      "  0.00909091]\n"
     ]
    }
   ],
   "source": [
    "# importing numpy\n",
    "import numpy as np\n",
    "\n",
    "# forming probability matrix\n",
    "P = np.array([s0_prob_dist,\n",
    "              s1_prob_dist,\n",
    "              s2_prob_dist,\n",
    "              s3_prob_dist,\n",
    "              s4_prob_dist,\n",
    "              s5_prob_dist,\n",
    "              s6_prob_dist])\n",
    "P = np.transpose(P)\n",
    "\n",
    "Pn = np.linalg.matrix_power(P, ntrials)\n",
    "print(\"P to the power of n\\n\")\n",
    "print(Pn)\n",
    "\n",
    "eval,evec = np.linalg.eig(P)\n",
    "norm_evec = evec[:,0]/sum(evec[:,0])\n",
    "\n",
    "print(\"\\nEigenvector (normalised to add to 1):\\n\")\n",
    "print(norm_evec)\n"
   ]
  },
  {
   "cell_type": "markdown",
   "metadata": {},
   "source": [
    "### Plot Predictions Against Data in the BBC Report"
   ]
  },
  {
   "cell_type": "code",
   "execution_count": 17,
   "metadata": {},
   "outputs": [
    {
     "data": {
      "image/png": "[encoded data removed]",
      "text/plain": [
       "<matplotlib.figure.Figure at 0x7f7a4f864710>"
      ]
     },
     "execution_count": 17,
     "metadata": {},
     "output_type": "execute_result"
    }
   ],
   "source": [
    "# Data from BBC report\n",
    "bbc_GfK_prop = [15,19,14,15,6,26,6]\n",
    "bbc_GBCS_prop = [1,17,2,6,10,43,22]\n",
    "# predicted percentages\n",
    "pred_prop = 100*norm_evec\n",
    "# plotting data\n",
    "plt.clf()\n",
    "plt.cla()\n",
    "plt.close()\n",
    "\n",
    "N = 7\n",
    "ind = np.arange(N)  # the x locations for the groups\n",
    "width = 0.27       # the width of the bars\n",
    "\n",
    "\n",
    "fig = plt.figure(figsize=(8,6))\n",
    "ax = fig.add_subplot(111)\n",
    "\n",
    "rects1 = ax.bar(ind, bbc_GfK_prop, width, color='r')\n",
    "zvals = [1,2,3]\n",
    "rects2 = ax.bar(ind+width, bbc_GBCS_prop, width, color='g')\n",
    "kvals = [11,12,13]\n",
    "rects3 = ax.bar(ind+width*2, pred_prop, width, color='b')\n",
    "ax.legend( (rects1[0], rects2[0], rects3[0]), ('BBC GfK', 'BBC GBCS', 'Predicted') )\n",
    "\n",
    "ax.set_ylabel('Proportion')\n",
    "ax.set_xticks(ind+width)\n",
    "ax.set_xticklabels( ('0-Pr','1-Em','2-Tr','3-Ne','4-Te','5-Es','6-El') )\n",
    "\n",
    "fig\n"
   ]
  },
  {
   "cell_type": "markdown",
   "metadata": {},
   "source": [
    "High proportions around the lower classes reflects the fact the social mobility probability distributions are negatively skewed"
   ]
  },
  {
   "cell_type": "markdown",
   "metadata": {
    "collapsed": true
   },
   "source": [
    "### Similar Ideas"
   ]
  },
  {
   "cell_type": "markdown",
   "metadata": {},
   "source": [
    "The following papers follow similar ideas\n",
    "\n",
    "1. https://www.researchgate.net/publication/315059087_Intergeneration_Social_Mobility_as_a_Markov_Process\n",
    "2. https://www.ssc.wisc.edu/~jmontgom/socialmobility.pdf\n",
    "\n",
    "Paper 2 uses income quintiles to describe class which would get around the problem of class types changing, paper 1 just considers 3 classes"
   ]
  },
  {
   "cell_type": "markdown",
   "metadata": {},
   "source": [
    "### Things to do:\n",
    "\n",
    "* Think of way to obtain data, or modify problem to make data collection easier, perhaps just think about income streams\n",
    "* Look for other applications"
   ]
  }
 ],
 "metadata": {
  "kernelspec": {
   "display_name": "Python 3",
   "language": "python",
   "name": "python3"
  },
  "language_info": {
   "codemirror_mode": {
    "name": "ipython",
    "version": 3
   },
   "file_extension": ".py",
   "mimetype": "text/x-python",
   "name": "python",
   "nbconvert_exporter": "python",
   "pygments_lexer": "ipython3",
   "version": "3.6.3"
  }
 },
 "nbformat": 4,
 "nbformat_minor": 2
}
